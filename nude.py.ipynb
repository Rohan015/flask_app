{
 "cells": [
  {
   "cell_type": "code",
   "execution_count": 1,
   "id": "011f7788",
   "metadata": {},
   "outputs": [
    {
     "name": "stdout",
     "output_type": "stream",
     "text": [
      "Requirement already satisfied: pip in c:\\users\\rohan\\appdata\\local\\programs\\python\\python39\\lib\\site-packages (22.3.1)\n"
     ]
    }
   ],
   "source": [
    "!python -m pip install --upgrade pip"
   ]
  },
  {
   "cell_type": "code",
   "execution_count": null,
   "id": "99a12fe2",
   "metadata": {},
   "outputs": [],
   "source": []
  },
  {
   "cell_type": "code",
   "execution_count": 2,
   "id": "70a69042",
   "metadata": {},
   "outputs": [
    {
     "name": "stdout",
     "output_type": "stream",
     "text": [
      "Requirement already satisfied: tensorflow in c:\\users\\rohan\\appdata\\local\\programs\\python\\python39\\lib\\site-packages (2.11.0)\n",
      "Requirement already satisfied: tensorflow-intel==2.11.0 in c:\\users\\rohan\\appdata\\local\\programs\\python\\python39\\lib\\site-packages (from tensorflow) (2.11.0)\n",
      "Requirement already satisfied: libclang>=13.0.0 in c:\\users\\rohan\\appdata\\local\\programs\\python\\python39\\lib\\site-packages (from tensorflow-intel==2.11.0->tensorflow) (14.0.6)\n",
      "Requirement already satisfied: six>=1.12.0 in c:\\users\\rohan\\appdata\\local\\programs\\python\\python39\\lib\\site-packages (from tensorflow-intel==2.11.0->tensorflow) (1.16.0)\n",
      "Requirement already satisfied: numpy>=1.20 in c:\\users\\rohan\\appdata\\local\\programs\\python\\python39\\lib\\site-packages (from tensorflow-intel==2.11.0->tensorflow) (1.23.5)\n",
      "Requirement already satisfied: flatbuffers>=2.0 in c:\\users\\rohan\\appdata\\local\\programs\\python\\python39\\lib\\site-packages (from tensorflow-intel==2.11.0->tensorflow) (22.11.23)\n",
      "Requirement already satisfied: astunparse>=1.6.0 in c:\\users\\rohan\\appdata\\local\\programs\\python\\python39\\lib\\site-packages (from tensorflow-intel==2.11.0->tensorflow) (1.6.3)\n",
      "Requirement already satisfied: protobuf<3.20,>=3.9.2 in c:\\users\\rohan\\appdata\\local\\programs\\python\\python39\\lib\\site-packages (from tensorflow-intel==2.11.0->tensorflow) (3.19.6)\n",
      "Requirement already satisfied: typing-extensions>=3.6.6 in c:\\users\\rohan\\appdata\\local\\programs\\python\\python39\\lib\\site-packages (from tensorflow-intel==2.11.0->tensorflow) (4.4.0)\n",
      "Requirement already satisfied: opt-einsum>=2.3.2 in c:\\users\\rohan\\appdata\\local\\programs\\python\\python39\\lib\\site-packages (from tensorflow-intel==2.11.0->tensorflow) (3.3.0)\n",
      "Requirement already satisfied: grpcio<2.0,>=1.24.3 in c:\\users\\rohan\\appdata\\local\\programs\\python\\python39\\lib\\site-packages (from tensorflow-intel==2.11.0->tensorflow) (1.51.1)\n",
      "Requirement already satisfied: tensorflow-io-gcs-filesystem>=0.23.1 in c:\\users\\rohan\\appdata\\local\\programs\\python\\python39\\lib\\site-packages (from tensorflow-intel==2.11.0->tensorflow) (0.28.0)\n",
      "Requirement already satisfied: setuptools in c:\\users\\rohan\\appdata\\local\\programs\\python\\python39\\lib\\site-packages (from tensorflow-intel==2.11.0->tensorflow) (58.1.0)\n",
      "Requirement already satisfied: google-pasta>=0.1.1 in c:\\users\\rohan\\appdata\\local\\programs\\python\\python39\\lib\\site-packages (from tensorflow-intel==2.11.0->tensorflow) (0.2.0)\n",
      "Requirement already satisfied: keras<2.12,>=2.11.0 in c:\\users\\rohan\\appdata\\local\\programs\\python\\python39\\lib\\site-packages (from tensorflow-intel==2.11.0->tensorflow) (2.11.0)\n",
      "Requirement already satisfied: tensorboard<2.12,>=2.11 in c:\\users\\rohan\\appdata\\local\\programs\\python\\python39\\lib\\site-packages (from tensorflow-intel==2.11.0->tensorflow) (2.11.0)\n",
      "Requirement already satisfied: wrapt>=1.11.0 in c:\\users\\rohan\\appdata\\local\\programs\\python\\python39\\lib\\site-packages (from tensorflow-intel==2.11.0->tensorflow) (1.14.1)\n",
      "Requirement already satisfied: gast<=0.4.0,>=0.2.1 in c:\\users\\rohan\\appdata\\local\\programs\\python\\python39\\lib\\site-packages (from tensorflow-intel==2.11.0->tensorflow) (0.4.0)\n",
      "Requirement already satisfied: packaging in c:\\users\\rohan\\appdata\\local\\programs\\python\\python39\\lib\\site-packages (from tensorflow-intel==2.11.0->tensorflow) (21.3)\n",
      "Requirement already satisfied: h5py>=2.9.0 in c:\\users\\rohan\\appdata\\local\\programs\\python\\python39\\lib\\site-packages (from tensorflow-intel==2.11.0->tensorflow) (3.7.0)\n",
      "Requirement already satisfied: termcolor>=1.1.0 in c:\\users\\rohan\\appdata\\local\\programs\\python\\python39\\lib\\site-packages (from tensorflow-intel==2.11.0->tensorflow) (2.1.1)\n",
      "Requirement already satisfied: tensorflow-estimator<2.12,>=2.11.0 in c:\\users\\rohan\\appdata\\local\\programs\\python\\python39\\lib\\site-packages (from tensorflow-intel==2.11.0->tensorflow) (2.11.0)\n",
      "Requirement already satisfied: absl-py>=1.0.0 in c:\\users\\rohan\\appdata\\local\\programs\\python\\python39\\lib\\site-packages (from tensorflow-intel==2.11.0->tensorflow) (1.3.0)\n",
      "Requirement already satisfied: wheel<1.0,>=0.23.0 in c:\\users\\rohan\\appdata\\local\\programs\\python\\python39\\lib\\site-packages (from astunparse>=1.6.0->tensorflow-intel==2.11.0->tensorflow) (0.38.4)\n",
      "Requirement already satisfied: google-auth-oauthlib<0.5,>=0.4.1 in c:\\users\\rohan\\appdata\\local\\programs\\python\\python39\\lib\\site-packages (from tensorboard<2.12,>=2.11->tensorflow-intel==2.11.0->tensorflow) (0.4.6)\n",
      "Requirement already satisfied: werkzeug>=1.0.1 in c:\\users\\rohan\\appdata\\local\\programs\\python\\python39\\lib\\site-packages (from tensorboard<2.12,>=2.11->tensorflow-intel==2.11.0->tensorflow) (2.2.2)\n",
      "Requirement already satisfied: requests<3,>=2.21.0 in c:\\users\\rohan\\appdata\\local\\programs\\python\\python39\\lib\\site-packages (from tensorboard<2.12,>=2.11->tensorflow-intel==2.11.0->tensorflow) (2.28.1)\n",
      "Requirement already satisfied: tensorboard-plugin-wit>=1.6.0 in c:\\users\\rohan\\appdata\\local\\programs\\python\\python39\\lib\\site-packages (from tensorboard<2.12,>=2.11->tensorflow-intel==2.11.0->tensorflow) (1.8.1)\n",
      "Requirement already satisfied: tensorboard-data-server<0.7.0,>=0.6.0 in c:\\users\\rohan\\appdata\\local\\programs\\python\\python39\\lib\\site-packages (from tensorboard<2.12,>=2.11->tensorflow-intel==2.11.0->tensorflow) (0.6.1)\n",
      "Requirement already satisfied: markdown>=2.6.8 in c:\\users\\rohan\\appdata\\local\\programs\\python\\python39\\lib\\site-packages (from tensorboard<2.12,>=2.11->tensorflow-intel==2.11.0->tensorflow) (3.4.1)\n",
      "Requirement already satisfied: google-auth<3,>=1.6.3 in c:\\users\\rohan\\appdata\\local\\programs\\python\\python39\\lib\\site-packages (from tensorboard<2.12,>=2.11->tensorflow-intel==2.11.0->tensorflow) (2.15.0)\n",
      "Requirement already satisfied: pyparsing!=3.0.5,>=2.0.2 in c:\\users\\rohan\\appdata\\local\\programs\\python\\python39\\lib\\site-packages (from packaging->tensorflow-intel==2.11.0->tensorflow) (3.0.9)\n",
      "Requirement already satisfied: rsa<5,>=3.1.4 in c:\\users\\rohan\\appdata\\local\\programs\\python\\python39\\lib\\site-packages (from google-auth<3,>=1.6.3->tensorboard<2.12,>=2.11->tensorflow-intel==2.11.0->tensorflow) (4.9)\n",
      "Requirement already satisfied: pyasn1-modules>=0.2.1 in c:\\users\\rohan\\appdata\\local\\programs\\python\\python39\\lib\\site-packages (from google-auth<3,>=1.6.3->tensorboard<2.12,>=2.11->tensorflow-intel==2.11.0->tensorflow) (0.2.8)\n",
      "Requirement already satisfied: cachetools<6.0,>=2.0.0 in c:\\users\\rohan\\appdata\\local\\programs\\python\\python39\\lib\\site-packages (from google-auth<3,>=1.6.3->tensorboard<2.12,>=2.11->tensorflow-intel==2.11.0->tensorflow) (5.2.0)\n",
      "Requirement already satisfied: requests-oauthlib>=0.7.0 in c:\\users\\rohan\\appdata\\local\\programs\\python\\python39\\lib\\site-packages (from google-auth-oauthlib<0.5,>=0.4.1->tensorboard<2.12,>=2.11->tensorflow-intel==2.11.0->tensorflow) (1.3.1)\n",
      "Requirement already satisfied: importlib-metadata>=4.4 in c:\\users\\rohan\\appdata\\local\\programs\\python\\python39\\lib\\site-packages (from markdown>=2.6.8->tensorboard<2.12,>=2.11->tensorflow-intel==2.11.0->tensorflow) (5.1.0)\n",
      "Requirement already satisfied: certifi>=2017.4.17 in c:\\users\\rohan\\appdata\\local\\programs\\python\\python39\\lib\\site-packages (from requests<3,>=2.21.0->tensorboard<2.12,>=2.11->tensorflow-intel==2.11.0->tensorflow) (2022.9.24)\n",
      "Requirement already satisfied: charset-normalizer<3,>=2 in c:\\users\\rohan\\appdata\\local\\programs\\python\\python39\\lib\\site-packages (from requests<3,>=2.21.0->tensorboard<2.12,>=2.11->tensorflow-intel==2.11.0->tensorflow) (2.1.1)\n",
      "Requirement already satisfied: urllib3<1.27,>=1.21.1 in c:\\users\\rohan\\appdata\\local\\programs\\python\\python39\\lib\\site-packages (from requests<3,>=2.21.0->tensorboard<2.12,>=2.11->tensorflow-intel==2.11.0->tensorflow) (1.26.13)\n",
      "Requirement already satisfied: idna<4,>=2.5 in c:\\users\\rohan\\appdata\\local\\programs\\python\\python39\\lib\\site-packages (from requests<3,>=2.21.0->tensorboard<2.12,>=2.11->tensorflow-intel==2.11.0->tensorflow) (3.4)\n",
      "Requirement already satisfied: MarkupSafe>=2.1.1 in c:\\users\\rohan\\appdata\\local\\programs\\python\\python39\\lib\\site-packages (from werkzeug>=1.0.1->tensorboard<2.12,>=2.11->tensorflow-intel==2.11.0->tensorflow) (2.1.1)\n",
      "Requirement already satisfied: zipp>=0.5 in c:\\users\\rohan\\appdata\\local\\programs\\python\\python39\\lib\\site-packages (from importlib-metadata>=4.4->markdown>=2.6.8->tensorboard<2.12,>=2.11->tensorflow-intel==2.11.0->tensorflow) (3.11.0)\n",
      "Requirement already satisfied: pyasn1<0.5.0,>=0.4.6 in c:\\users\\rohan\\appdata\\local\\programs\\python\\python39\\lib\\site-packages (from pyasn1-modules>=0.2.1->google-auth<3,>=1.6.3->tensorboard<2.12,>=2.11->tensorflow-intel==2.11.0->tensorflow) (0.4.8)\n",
      "Requirement already satisfied: oauthlib>=3.0.0 in c:\\users\\rohan\\appdata\\local\\programs\\python\\python39\\lib\\site-packages (from requests-oauthlib>=0.7.0->google-auth-oauthlib<0.5,>=0.4.1->tensorboard<2.12,>=2.11->tensorflow-intel==2.11.0->tensorflow) (3.2.2)\n"
     ]
    }
   ],
   "source": [
    "!pip install tensorflow"
   ]
  },
  {
   "cell_type": "code",
   "execution_count": 3,
   "id": "957c8cda",
   "metadata": {},
   "outputs": [
    {
     "name": "stdout",
     "output_type": "stream",
     "text": [
      "Requirement already satisfied: tensorboard in c:\\users\\rohan\\appdata\\local\\programs\\python\\python39\\lib\\site-packages (2.11.0)\n",
      "Requirement already satisfied: tensorboard-plugin-wit>=1.6.0 in c:\\users\\rohan\\appdata\\local\\programs\\python\\python39\\lib\\site-packages (from tensorboard) (1.8.1)\n",
      "Requirement already satisfied: requests<3,>=2.21.0 in c:\\users\\rohan\\appdata\\local\\programs\\python\\python39\\lib\\site-packages (from tensorboard) (2.28.1)\n",
      "Requirement already satisfied: google-auth<3,>=1.6.3 in c:\\users\\rohan\\appdata\\local\\programs\\python\\python39\\lib\\site-packages (from tensorboard) (2.15.0)\n",
      "Requirement already satisfied: wheel>=0.26 in c:\\users\\rohan\\appdata\\local\\programs\\python\\python39\\lib\\site-packages (from tensorboard) (0.38.4)\n",
      "Requirement already satisfied: protobuf<4,>=3.9.2 in c:\\users\\rohan\\appdata\\local\\programs\\python\\python39\\lib\\site-packages (from tensorboard) (3.19.6)\n",
      "Requirement already satisfied: setuptools>=41.0.0 in c:\\users\\rohan\\appdata\\local\\programs\\python\\python39\\lib\\site-packages (from tensorboard) (58.1.0)\n",
      "Requirement already satisfied: werkzeug>=1.0.1 in c:\\users\\rohan\\appdata\\local\\programs\\python\\python39\\lib\\site-packages (from tensorboard) (2.2.2)\n",
      "Requirement already satisfied: tensorboard-data-server<0.7.0,>=0.6.0 in c:\\users\\rohan\\appdata\\local\\programs\\python\\python39\\lib\\site-packages (from tensorboard) (0.6.1)\n",
      "Requirement already satisfied: numpy>=1.12.0 in c:\\users\\rohan\\appdata\\local\\programs\\python\\python39\\lib\\site-packages (from tensorboard) (1.23.5)\n",
      "Requirement already satisfied: google-auth-oauthlib<0.5,>=0.4.1 in c:\\users\\rohan\\appdata\\local\\programs\\python\\python39\\lib\\site-packages (from tensorboard) (0.4.6)\n",
      "Requirement already satisfied: markdown>=2.6.8 in c:\\users\\rohan\\appdata\\local\\programs\\python\\python39\\lib\\site-packages (from tensorboard) (3.4.1)\n",
      "Requirement already satisfied: absl-py>=0.4 in c:\\users\\rohan\\appdata\\local\\programs\\python\\python39\\lib\\site-packages (from tensorboard) (1.3.0)\n",
      "Requirement already satisfied: grpcio>=1.24.3 in c:\\users\\rohan\\appdata\\local\\programs\\python\\python39\\lib\\site-packages (from tensorboard) (1.51.1)\n",
      "Requirement already satisfied: six>=1.9.0 in c:\\users\\rohan\\appdata\\local\\programs\\python\\python39\\lib\\site-packages (from google-auth<3,>=1.6.3->tensorboard) (1.16.0)\n",
      "Requirement already satisfied: rsa<5,>=3.1.4 in c:\\users\\rohan\\appdata\\local\\programs\\python\\python39\\lib\\site-packages (from google-auth<3,>=1.6.3->tensorboard) (4.9)\n",
      "Requirement already satisfied: pyasn1-modules>=0.2.1 in c:\\users\\rohan\\appdata\\local\\programs\\python\\python39\\lib\\site-packages (from google-auth<3,>=1.6.3->tensorboard) (0.2.8)\n",
      "Requirement already satisfied: cachetools<6.0,>=2.0.0 in c:\\users\\rohan\\appdata\\local\\programs\\python\\python39\\lib\\site-packages (from google-auth<3,>=1.6.3->tensorboard) (5.2.0)\n",
      "Requirement already satisfied: requests-oauthlib>=0.7.0 in c:\\users\\rohan\\appdata\\local\\programs\\python\\python39\\lib\\site-packages (from google-auth-oauthlib<0.5,>=0.4.1->tensorboard) (1.3.1)\n",
      "Requirement already satisfied: importlib-metadata>=4.4 in c:\\users\\rohan\\appdata\\local\\programs\\python\\python39\\lib\\site-packages (from markdown>=2.6.8->tensorboard) (5.1.0)\n",
      "Requirement already satisfied: idna<4,>=2.5 in c:\\users\\rohan\\appdata\\local\\programs\\python\\python39\\lib\\site-packages (from requests<3,>=2.21.0->tensorboard) (3.4)\n",
      "Requirement already satisfied: urllib3<1.27,>=1.21.1 in c:\\users\\rohan\\appdata\\local\\programs\\python\\python39\\lib\\site-packages (from requests<3,>=2.21.0->tensorboard) (1.26.13)\n",
      "Requirement already satisfied: charset-normalizer<3,>=2 in c:\\users\\rohan\\appdata\\local\\programs\\python\\python39\\lib\\site-packages (from requests<3,>=2.21.0->tensorboard) (2.1.1)\n",
      "Requirement already satisfied: certifi>=2017.4.17 in c:\\users\\rohan\\appdata\\local\\programs\\python\\python39\\lib\\site-packages (from requests<3,>=2.21.0->tensorboard) (2022.9.24)\n",
      "Requirement already satisfied: MarkupSafe>=2.1.1 in c:\\users\\rohan\\appdata\\local\\programs\\python\\python39\\lib\\site-packages (from werkzeug>=1.0.1->tensorboard) (2.1.1)\n",
      "Requirement already satisfied: zipp>=0.5 in c:\\users\\rohan\\appdata\\local\\programs\\python\\python39\\lib\\site-packages (from importlib-metadata>=4.4->markdown>=2.6.8->tensorboard) (3.11.0)\n",
      "Requirement already satisfied: pyasn1<0.5.0,>=0.4.6 in c:\\users\\rohan\\appdata\\local\\programs\\python\\python39\\lib\\site-packages (from pyasn1-modules>=0.2.1->google-auth<3,>=1.6.3->tensorboard) (0.4.8)\n",
      "Requirement already satisfied: oauthlib>=3.0.0 in c:\\users\\rohan\\appdata\\local\\programs\\python\\python39\\lib\\site-packages (from requests-oauthlib>=0.7.0->google-auth-oauthlib<0.5,>=0.4.1->tensorboard) (3.2.2)\n"
     ]
    }
   ],
   "source": [
    "!pip install tensorboard"
   ]
  },
  {
   "cell_type": "code",
   "execution_count": 4,
   "id": "01c764c8",
   "metadata": {},
   "outputs": [
    {
     "name": "stdout",
     "output_type": "stream",
     "text": [
      "Requirement already satisfied: torch in c:\\users\\rohan\\appdata\\local\\programs\\python\\python39\\lib\\site-packages (1.13.0)\n",
      "Requirement already satisfied: typing-extensions in c:\\users\\rohan\\appdata\\local\\programs\\python\\python39\\lib\\site-packages (from torch) (4.4.0)\n",
      "Requirement already satisfied: tqdm in c:\\users\\rohan\\appdata\\local\\programs\\python\\python39\\lib\\site-packages (4.64.1)\n",
      "Requirement already satisfied: colorama in c:\\users\\rohan\\appdata\\local\\programs\\python\\python39\\lib\\site-packages (from tqdm) (0.4.6)\n"
     ]
    }
   ],
   "source": [
    "!pip install torch\n",
    "!pip install tqdm"
   ]
  },
  {
   "cell_type": "code",
   "execution_count": 5,
   "id": "91dfba79",
   "metadata": {},
   "outputs": [],
   "source": [
    "from tqdm.notebook import tqdm"
   ]
  },
  {
   "cell_type": "code",
   "execution_count": 6,
   "id": "57d5f104",
   "metadata": {},
   "outputs": [],
   "source": [
    "from IPython.display import Image"
   ]
  },
  {
   "cell_type": "code",
   "execution_count": 7,
   "id": "942f6a33",
   "metadata": {},
   "outputs": [
    {
     "name": "stderr",
     "output_type": "stream",
     "text": [
      "fatal: destination path 'yolov5' already exists and is not an empty directory.\n"
     ]
    }
   ],
   "source": [
    "!git clone https://github.com/ultralytics/yolov5"
   ]
  },
  {
   "cell_type": "code",
   "execution_count": 3,
   "id": "2fbdd6b6",
   "metadata": {},
   "outputs": [
    {
     "name": "stdout",
     "output_type": "stream",
     "text": [
      "[WinError 2] The system cannot find the file specified: 'yolov5'\n",
      "C:\\Users\\rohan\\NudeD\\yolov5\n"
     ]
    }
   ],
   "source": [
    "%cd yolov5"
   ]
  },
  {
   "cell_type": "code",
   "execution_count": 4,
   "id": "48da1251",
   "metadata": {},
   "outputs": [
    {
     "name": "stdout",
     "output_type": "stream",
     "text": [
      "Requirement already satisfied: gitpython in c:\\users\\rohan\\miniconda3\\lib\\site-packages (from -r requirements.txt (line 5)) (3.1.29)\n",
      "Requirement already satisfied: ipython in c:\\users\\rohan\\miniconda3\\lib\\site-packages (from -r requirements.txt (line 6)) (8.7.0)\n",
      "Requirement already satisfied: matplotlib>=3.2.2 in c:\\users\\rohan\\miniconda3\\lib\\site-packages (from -r requirements.txt (line 7)) (3.6.2)\n",
      "Requirement already satisfied: numpy>=1.18.5 in c:\\users\\rohan\\miniconda3\\lib\\site-packages (from -r requirements.txt (line 8)) (1.23.5)\n",
      "Requirement already satisfied: opencv-python>=4.1.1 in c:\\users\\rohan\\miniconda3\\lib\\site-packages (from -r requirements.txt (line 9)) (4.6.0.66)\n",
      "Requirement already satisfied: Pillow>=7.1.2 in c:\\users\\rohan\\miniconda3\\lib\\site-packages (from -r requirements.txt (line 10)) (9.3.0)\n",
      "Requirement already satisfied: psutil in c:\\users\\rohan\\miniconda3\\lib\\site-packages (from -r requirements.txt (line 11)) (5.9.4)\n",
      "Requirement already satisfied: PyYAML>=5.3.1 in c:\\users\\rohan\\miniconda3\\lib\\site-packages (from -r requirements.txt (line 12)) (6.0)\n",
      "Requirement already satisfied: requests>=2.23.0 in c:\\users\\rohan\\miniconda3\\lib\\site-packages (from -r requirements.txt (line 13)) (2.27.1)\n",
      "Requirement already satisfied: scipy>=1.4.1 in c:\\users\\rohan\\miniconda3\\lib\\site-packages (from -r requirements.txt (line 14)) (1.9.3)\n",
      "Requirement already satisfied: thop>=0.1.1 in c:\\users\\rohan\\miniconda3\\lib\\site-packages (from -r requirements.txt (line 15)) (0.1.1.post2209072238)\n",
      "Requirement already satisfied: torch>=1.7.0 in c:\\users\\rohan\\miniconda3\\lib\\site-packages (from -r requirements.txt (line 16)) (1.13.0)\n",
      "Requirement already satisfied: torchvision>=0.8.1 in c:\\users\\rohan\\miniconda3\\lib\\site-packages (from -r requirements.txt (line 17)) (0.14.0)\n",
      "Requirement already satisfied: tqdm>=4.64.0 in c:\\users\\rohan\\miniconda3\\lib\\site-packages (from -r requirements.txt (line 18)) (4.64.1)\n",
      "Requirement already satisfied: tensorboard>=2.4.1 in c:\\users\\rohan\\miniconda3\\lib\\site-packages (from -r requirements.txt (line 22)) (2.11.0)\n",
      "Requirement already satisfied: pandas>=1.1.4 in c:\\users\\rohan\\miniconda3\\lib\\site-packages (from -r requirements.txt (line 27)) (1.5.2)\n",
      "Requirement already satisfied: seaborn>=0.11.0 in c:\\users\\rohan\\miniconda3\\lib\\site-packages (from -r requirements.txt (line 28)) (0.12.1)\n",
      "Requirement already satisfied: gitdb<5,>=4.0.1 in c:\\users\\rohan\\miniconda3\\lib\\site-packages (from gitpython->-r requirements.txt (line 5)) (4.0.10)\n",
      "Requirement already satisfied: decorator in c:\\users\\rohan\\miniconda3\\lib\\site-packages (from ipython->-r requirements.txt (line 6)) (5.1.1)\n",
      "Requirement already satisfied: traitlets>=5 in c:\\users\\rohan\\miniconda3\\lib\\site-packages (from ipython->-r requirements.txt (line 6)) (5.6.0)\n",
      "Requirement already satisfied: jedi>=0.16 in c:\\users\\rohan\\miniconda3\\lib\\site-packages (from ipython->-r requirements.txt (line 6)) (0.18.2)\n",
      "Requirement already satisfied: colorama in c:\\users\\rohan\\miniconda3\\lib\\site-packages (from ipython->-r requirements.txt (line 6)) (0.4.4)\n",
      "Requirement already satisfied: stack-data in c:\\users\\rohan\\miniconda3\\lib\\site-packages (from ipython->-r requirements.txt (line 6)) (0.6.2)\n",
      "Requirement already satisfied: pickleshare in c:\\users\\rohan\\miniconda3\\lib\\site-packages (from ipython->-r requirements.txt (line 6)) (0.7.5)\n",
      "Requirement already satisfied: backcall in c:\\users\\rohan\\miniconda3\\lib\\site-packages (from ipython->-r requirements.txt (line 6)) (0.2.0)\n",
      "Requirement already satisfied: pygments>=2.4.0 in c:\\users\\rohan\\miniconda3\\lib\\site-packages (from ipython->-r requirements.txt (line 6)) (2.13.0)\n",
      "Requirement already satisfied: matplotlib-inline in c:\\users\\rohan\\miniconda3\\lib\\site-packages (from ipython->-r requirements.txt (line 6)) (0.1.6)\n",
      "Requirement already satisfied: prompt-toolkit<3.1.0,>=3.0.11 in c:\\users\\rohan\\miniconda3\\lib\\site-packages (from ipython->-r requirements.txt (line 6)) (3.0.36)\n",
      "Requirement already satisfied: packaging>=20.0 in c:\\users\\rohan\\miniconda3\\lib\\site-packages (from matplotlib>=3.2.2->-r requirements.txt (line 7)) (22.0)\n",
      "Requirement already satisfied: pyparsing>=2.2.1 in c:\\users\\rohan\\miniconda3\\lib\\site-packages (from matplotlib>=3.2.2->-r requirements.txt (line 7)) (3.0.9)\n",
      "Requirement already satisfied: fonttools>=4.22.0 in c:\\users\\rohan\\miniconda3\\lib\\site-packages (from matplotlib>=3.2.2->-r requirements.txt (line 7)) (4.38.0)\n",
      "Requirement already satisfied: python-dateutil>=2.7 in c:\\users\\rohan\\miniconda3\\lib\\site-packages (from matplotlib>=3.2.2->-r requirements.txt (line 7)) (2.8.2)\n",
      "Requirement already satisfied: kiwisolver>=1.0.1 in c:\\users\\rohan\\miniconda3\\lib\\site-packages (from matplotlib>=3.2.2->-r requirements.txt (line 7)) (1.4.4)\n",
      "Requirement already satisfied: contourpy>=1.0.1 in c:\\users\\rohan\\miniconda3\\lib\\site-packages (from matplotlib>=3.2.2->-r requirements.txt (line 7)) (1.0.6)\n",
      "Requirement already satisfied: cycler>=0.10 in c:\\users\\rohan\\miniconda3\\lib\\site-packages (from matplotlib>=3.2.2->-r requirements.txt (line 7)) (0.11.0)\n",
      "Requirement already satisfied: certifi>=2017.4.17 in c:\\users\\rohan\\miniconda3\\lib\\site-packages (from requests>=2.23.0->-r requirements.txt (line 13)) (2022.6.15)\n",
      "Requirement already satisfied: urllib3<1.27,>=1.21.1 in c:\\users\\rohan\\miniconda3\\lib\\site-packages (from requests>=2.23.0->-r requirements.txt (line 13)) (1.26.8)\n",
      "Requirement already satisfied: idna<4,>=2.5 in c:\\users\\rohan\\miniconda3\\lib\\site-packages (from requests>=2.23.0->-r requirements.txt (line 13)) (3.3)\n",
      "Requirement already satisfied: charset-normalizer~=2.0.0 in c:\\users\\rohan\\miniconda3\\lib\\site-packages (from requests>=2.23.0->-r requirements.txt (line 13)) (2.0.4)\n",
      "Requirement already satisfied: typing-extensions in c:\\users\\rohan\\miniconda3\\lib\\site-packages (from torch>=1.7.0->-r requirements.txt (line 16)) (4.4.0)\n",
      "Requirement already satisfied: tensorboard-data-server<0.7.0,>=0.6.0 in c:\\users\\rohan\\miniconda3\\lib\\site-packages (from tensorboard>=2.4.1->-r requirements.txt (line 22)) (0.6.1)\n",
      "Requirement already satisfied: werkzeug>=1.0.1 in c:\\users\\rohan\\miniconda3\\lib\\site-packages (from tensorboard>=2.4.1->-r requirements.txt (line 22)) (2.2.2)\n",
      "Requirement already satisfied: setuptools>=41.0.0 in c:\\users\\rohan\\miniconda3\\lib\\site-packages (from tensorboard>=2.4.1->-r requirements.txt (line 22)) (61.2.0)\n",
      "Requirement already satisfied: google-auth-oauthlib<0.5,>=0.4.1 in c:\\users\\rohan\\miniconda3\\lib\\site-packages (from tensorboard>=2.4.1->-r requirements.txt (line 22)) (0.4.6)\n",
      "Requirement already satisfied: google-auth<3,>=1.6.3 in c:\\users\\rohan\\miniconda3\\lib\\site-packages (from tensorboard>=2.4.1->-r requirements.txt (line 22)) (2.15.0)\n",
      "Requirement already satisfied: markdown>=2.6.8 in c:\\users\\rohan\\miniconda3\\lib\\site-packages (from tensorboard>=2.4.1->-r requirements.txt (line 22)) (3.4.1)\n",
      "Requirement already satisfied: protobuf<4,>=3.9.2 in c:\\users\\rohan\\miniconda3\\lib\\site-packages (from tensorboard>=2.4.1->-r requirements.txt (line 22)) (3.20.3)\n",
      "Requirement already satisfied: grpcio>=1.24.3 in c:\\users\\rohan\\miniconda3\\lib\\site-packages (from tensorboard>=2.4.1->-r requirements.txt (line 22)) (1.51.1)\n",
      "Requirement already satisfied: tensorboard-plugin-wit>=1.6.0 in c:\\users\\rohan\\miniconda3\\lib\\site-packages (from tensorboard>=2.4.1->-r requirements.txt (line 22)) (1.8.1)\n",
      "Requirement already satisfied: absl-py>=0.4 in c:\\users\\rohan\\miniconda3\\lib\\site-packages (from tensorboard>=2.4.1->-r requirements.txt (line 22)) (1.3.0)\n",
      "Requirement already satisfied: wheel>=0.26 in c:\\users\\rohan\\miniconda3\\lib\\site-packages (from tensorboard>=2.4.1->-r requirements.txt (line 22)) (0.37.1)\n",
      "Requirement already satisfied: pytz>=2020.1 in c:\\users\\rohan\\miniconda3\\lib\\site-packages (from pandas>=1.1.4->-r requirements.txt (line 27)) (2022.6)\n",
      "Requirement already satisfied: smmap<6,>=3.0.1 in c:\\users\\rohan\\miniconda3\\lib\\site-packages (from gitdb<5,>=4.0.1->gitpython->-r requirements.txt (line 5)) (5.0.0)\n",
      "Requirement already satisfied: cachetools<6.0,>=2.0.0 in c:\\users\\rohan\\miniconda3\\lib\\site-packages (from google-auth<3,>=1.6.3->tensorboard>=2.4.1->-r requirements.txt (line 22)) (5.2.0)\n",
      "Requirement already satisfied: six>=1.9.0 in c:\\users\\rohan\\miniconda3\\lib\\site-packages (from google-auth<3,>=1.6.3->tensorboard>=2.4.1->-r requirements.txt (line 22)) (1.16.0)\n",
      "Requirement already satisfied: pyasn1-modules>=0.2.1 in c:\\users\\rohan\\miniconda3\\lib\\site-packages (from google-auth<3,>=1.6.3->tensorboard>=2.4.1->-r requirements.txt (line 22)) (0.2.8)\n",
      "Requirement already satisfied: rsa<5,>=3.1.4 in c:\\users\\rohan\\miniconda3\\lib\\site-packages (from google-auth<3,>=1.6.3->tensorboard>=2.4.1->-r requirements.txt (line 22)) (4.9)\n",
      "Requirement already satisfied: requests-oauthlib>=0.7.0 in c:\\users\\rohan\\miniconda3\\lib\\site-packages (from google-auth-oauthlib<0.5,>=0.4.1->tensorboard>=2.4.1->-r requirements.txt (line 22)) (1.3.1)\n",
      "Requirement already satisfied: parso<0.9.0,>=0.8.0 in c:\\users\\rohan\\miniconda3\\lib\\site-packages (from jedi>=0.16->ipython->-r requirements.txt (line 6)) (0.8.3)\n",
      "Requirement already satisfied: importlib-metadata>=4.4 in c:\\users\\rohan\\miniconda3\\lib\\site-packages (from markdown>=2.6.8->tensorboard>=2.4.1->-r requirements.txt (line 22)) (4.11.3)\n",
      "Requirement already satisfied: zipp>=0.5 in c:\\users\\rohan\\miniconda3\\lib\\site-packages (from importlib-metadata>=4.4->markdown>=2.6.8->tensorboard>=2.4.1->-r requirements.txt (line 22)) (3.8.0)\n",
      "Requirement already satisfied: wcwidth in c:\\users\\rohan\\miniconda3\\lib\\site-packages (from prompt-toolkit<3.1.0,>=3.0.11->ipython->-r requirements.txt (line 6)) (0.2.5)\n",
      "Requirement already satisfied: pyasn1<0.5.0,>=0.4.6 in c:\\users\\rohan\\miniconda3\\lib\\site-packages (from pyasn1-modules>=0.2.1->google-auth<3,>=1.6.3->tensorboard>=2.4.1->-r requirements.txt (line 22)) (0.4.8)\n",
      "Requirement already satisfied: oauthlib>=3.0.0 in c:\\users\\rohan\\miniconda3\\lib\\site-packages (from requests-oauthlib>=0.7.0->google-auth-oauthlib<0.5,>=0.4.1->tensorboard>=2.4.1->-r requirements.txt (line 22)) (3.2.2)\n",
      "Requirement already satisfied: MarkupSafe>=2.1.1 in c:\\users\\rohan\\miniconda3\\lib\\site-packages (from werkzeug>=1.0.1->tensorboard>=2.4.1->-r requirements.txt (line 22)) (2.1.1)\n",
      "Requirement already satisfied: pure-eval in c:\\users\\rohan\\miniconda3\\lib\\site-packages (from stack-data->ipython->-r requirements.txt (line 6)) (0.2.2)\n",
      "Requirement already satisfied: executing>=1.2.0 in c:\\users\\rohan\\miniconda3\\lib\\site-packages (from stack-data->ipython->-r requirements.txt (line 6)) (1.2.0)\n",
      "Requirement already satisfied: asttokens>=2.1.0 in c:\\users\\rohan\\miniconda3\\lib\\site-packages (from stack-data->ipython->-r requirements.txt (line 6)) (2.2.1)\n"
     ]
    }
   ],
   "source": [
    "!pip install -r requirements.txt"
   ]
  },
  {
   "cell_type": "code",
   "execution_count": null,
   "id": "85ef2e09",
   "metadata": {},
   "outputs": [],
   "source": [
    "!python train.py --img 1280 --batch 16 --epochs 30 --data dataset.yml --weights yolov5l6.pt --cache"
   ]
  },
  {
   "cell_type": "code",
   "execution_count": 19,
   "id": "656f46b6",
   "metadata": {},
   "outputs": [
    {
     "name": "stdout",
     "output_type": "stream",
     "text": [
      "The tensorboard extension is already loaded. To reload it, use:\n",
      "  %reload_ext tensorboard\n"
     ]
    },
    {
     "data": {
      "text/plain": [
       "Reusing TensorBoard on port 6006 (pid 12544), started 4:16:09 ago. (Use '!kill 12544' to kill it.)"
      ]
     },
     "metadata": {},
     "output_type": "display_data"
    },
    {
     "data": {
      "text/html": [
       "\n",
       "      <iframe id=\"tensorboard-frame-d54e6cec125cfcaf\" width=\"100%\" height=\"800\" frameborder=\"0\">\n",
       "      </iframe>\n",
       "      <script>\n",
       "        (function() {\n",
       "          const frame = document.getElementById(\"tensorboard-frame-d54e6cec125cfcaf\");\n",
       "          const url = new URL(\"/\", window.location);\n",
       "          const port = 6006;\n",
       "          if (port) {\n",
       "            url.port = port;\n",
       "          }\n",
       "          frame.src = url;\n",
       "        })();\n",
       "      </script>\n",
       "    "
      ],
      "text/plain": [
       "<IPython.core.display.HTML object>"
      ]
     },
     "metadata": {},
     "output_type": "display_data"
    }
   ],
   "source": [
    "%load_ext tensorboard\n",
    "%tensorboard --logdir runs\n"
   ]
  },
  {
   "cell_type": "code",
   "execution_count": 24,
   "id": "fcf6aa06",
   "metadata": {},
   "outputs": [
    {
     "name": "stderr",
     "output_type": "stream",
     "text": [
      "usage: detect.py [-h] [--weights WEIGHTS [WEIGHTS ...]] [--source SOURCE]\n",
      "                 [--data DATA] [--imgsz IMGSZ [IMGSZ ...]]\n",
      "                 [--conf-thres CONF_THRES] [--iou-thres IOU_THRES]\n",
      "                 [--max-det MAX_DET] [--device DEVICE] [--view-img]\n",
      "                 [--save-txt] [--save-conf] [--save-crop] [--nosave]\n",
      "                 [--classes CLASSES [CLASSES ...]] [--agnostic-nms]\n",
      "                 [--augment] [--visualize] [--update] [--project PROJECT]\n",
      "                 [--name NAME] [--exist-ok] [--line-thickness LINE_THICKNESS]\n",
      "                 [--hide-labels] [--hide-conf] [--half] [--dnn]\n",
      "                 [--vid-stride VID_STRIDE]\n",
      "detect.py: error: unrecognized arguments: folder\\graciebon-porn-pussy-7.jpg\n"
     ]
    }
   ],
   "source": [
    "!python detect.py --source runs\\train\\New folder\\graciebon-porn-pussy-7.jpg --weights best.pt\n"
   ]
  },
  {
   "cell_type": "code",
   "execution_count": 1,
   "id": "429cfa31",
   "metadata": {},
   "outputs": [
    {
     "name": "stderr",
     "output_type": "stream",
     "text": [
      "python: can't open file 'C:\\Users\\rohan\\NudeD\\detect.py': [Errno 2] No such file or directory\n"
     ]
    }
   ],
   "source": [
    "!python detect.py --weights runs\\train\\exp13\\weights\\best.pt --img 480 --conf 0.25 --source data\\images\\tm"
   ]
  },
  {
   "cell_type": "code",
   "execution_count": 2,
   "id": "fc75fe18",
   "metadata": {},
   "outputs": [
    {
     "name": "stdout",
     "output_type": "stream",
     "text": [
      "Requirement already satisfied: tensorflow-gpu in c:\\users\\rohan\\appdata\\local\\programs\\python\\python39\\lib\\site-packages (2.10.1)\n",
      "Requirement already satisfied: keras<2.11,>=2.10.0 in c:\\users\\rohan\\appdata\\local\\programs\\python\\python39\\lib\\site-packages (from tensorflow-gpu) (2.10.0)\n",
      "Requirement already satisfied: opt-einsum>=2.3.2 in c:\\users\\rohan\\appdata\\local\\programs\\python\\python39\\lib\\site-packages (from tensorflow-gpu) (3.3.0)\n",
      "Requirement already satisfied: tensorflow-estimator<2.11,>=2.10.0 in c:\\users\\rohan\\appdata\\local\\programs\\python\\python39\\lib\\site-packages (from tensorflow-gpu) (2.10.0)\n",
      "Requirement already satisfied: typing-extensions>=3.6.6 in c:\\users\\rohan\\appdata\\local\\programs\\python\\python39\\lib\\site-packages (from tensorflow-gpu) (4.4.0)\n",
      "Requirement already satisfied: google-pasta>=0.1.1 in c:\\users\\rohan\\appdata\\local\\programs\\python\\python39\\lib\\site-packages (from tensorflow-gpu) (0.2.0)\n",
      "Requirement already satisfied: flatbuffers>=2.0 in c:\\users\\rohan\\appdata\\local\\programs\\python\\python39\\lib\\site-packages (from tensorflow-gpu) (22.11.23)\n",
      "Requirement already satisfied: numpy>=1.20 in c:\\users\\rohan\\appdata\\local\\programs\\python\\python39\\lib\\site-packages (from tensorflow-gpu) (1.23.5)\n",
      "Requirement already satisfied: libclang>=13.0.0 in c:\\users\\rohan\\appdata\\local\\programs\\python\\python39\\lib\\site-packages (from tensorflow-gpu) (14.0.6)\n",
      "Requirement already satisfied: termcolor>=1.1.0 in c:\\users\\rohan\\appdata\\local\\programs\\python\\python39\\lib\\site-packages (from tensorflow-gpu) (2.1.1)\n",
      "Requirement already satisfied: astunparse>=1.6.0 in c:\\users\\rohan\\appdata\\local\\programs\\python\\python39\\lib\\site-packages (from tensorflow-gpu) (1.6.3)\n",
      "Requirement already satisfied: packaging in c:\\users\\rohan\\appdata\\local\\programs\\python\\python39\\lib\\site-packages (from tensorflow-gpu) (21.3)\n",
      "Requirement already satisfied: tensorflow-io-gcs-filesystem>=0.23.1 in c:\\users\\rohan\\appdata\\local\\programs\\python\\python39\\lib\\site-packages (from tensorflow-gpu) (0.28.0)\n",
      "Requirement already satisfied: tensorboard<2.11,>=2.10 in c:\\users\\rohan\\appdata\\local\\programs\\python\\python39\\lib\\site-packages (from tensorflow-gpu) (2.10.1)\n",
      "Requirement already satisfied: gast<=0.4.0,>=0.2.1 in c:\\users\\rohan\\appdata\\local\\programs\\python\\python39\\lib\\site-packages (from tensorflow-gpu) (0.4.0)\n",
      "Requirement already satisfied: h5py>=2.9.0 in c:\\users\\rohan\\appdata\\local\\programs\\python\\python39\\lib\\site-packages (from tensorflow-gpu) (3.7.0)\n",
      "Requirement already satisfied: wrapt>=1.11.0 in c:\\users\\rohan\\appdata\\local\\programs\\python\\python39\\lib\\site-packages (from tensorflow-gpu) (1.14.1)\n",
      "Requirement already satisfied: grpcio<2.0,>=1.24.3 in c:\\users\\rohan\\appdata\\local\\programs\\python\\python39\\lib\\site-packages (from tensorflow-gpu) (1.51.1)\n",
      "Requirement already satisfied: keras-preprocessing>=1.1.1 in c:\\users\\rohan\\appdata\\local\\programs\\python\\python39\\lib\\site-packages (from tensorflow-gpu) (1.1.2)\n",
      "Requirement already satisfied: six>=1.12.0 in c:\\users\\rohan\\appdata\\local\\programs\\python\\python39\\lib\\site-packages (from tensorflow-gpu) (1.16.0)\n",
      "Requirement already satisfied: setuptools in c:\\users\\rohan\\appdata\\local\\programs\\python\\python39\\lib\\site-packages (from tensorflow-gpu) (58.1.0)\n",
      "Requirement already satisfied: absl-py>=1.0.0 in c:\\users\\rohan\\appdata\\local\\programs\\python\\python39\\lib\\site-packages (from tensorflow-gpu) (1.3.0)\n",
      "Requirement already satisfied: protobuf<3.20,>=3.9.2 in c:\\users\\rohan\\appdata\\local\\programs\\python\\python39\\lib\\site-packages (from tensorflow-gpu) (3.19.6)\n",
      "Requirement already satisfied: wheel<1.0,>=0.23.0 in c:\\users\\rohan\\appdata\\local\\programs\\python\\python39\\lib\\site-packages (from astunparse>=1.6.0->tensorflow-gpu) (0.38.4)\n",
      "Requirement already satisfied: tensorboard-data-server<0.7.0,>=0.6.0 in c:\\users\\rohan\\appdata\\local\\programs\\python\\python39\\lib\\site-packages (from tensorboard<2.11,>=2.10->tensorflow-gpu) (0.6.1)\n",
      "Requirement already satisfied: tensorboard-plugin-wit>=1.6.0 in c:\\users\\rohan\\appdata\\local\\programs\\python\\python39\\lib\\site-packages (from tensorboard<2.11,>=2.10->tensorflow-gpu) (1.8.1)\n",
      "Requirement already satisfied: requests<3,>=2.21.0 in c:\\users\\rohan\\appdata\\local\\programs\\python\\python39\\lib\\site-packages (from tensorboard<2.11,>=2.10->tensorflow-gpu) (2.28.1)\n",
      "Requirement already satisfied: google-auth<3,>=1.6.3 in c:\\users\\rohan\\appdata\\local\\programs\\python\\python39\\lib\\site-packages (from tensorboard<2.11,>=2.10->tensorflow-gpu) (2.15.0)\n",
      "Requirement already satisfied: google-auth-oauthlib<0.5,>=0.4.1 in c:\\users\\rohan\\appdata\\local\\programs\\python\\python39\\lib\\site-packages (from tensorboard<2.11,>=2.10->tensorflow-gpu) (0.4.6)\n",
      "Requirement already satisfied: werkzeug>=1.0.1 in c:\\users\\rohan\\appdata\\local\\programs\\python\\python39\\lib\\site-packages (from tensorboard<2.11,>=2.10->tensorflow-gpu) (2.2.2)\n",
      "Requirement already satisfied: markdown>=2.6.8 in c:\\users\\rohan\\appdata\\local\\programs\\python\\python39\\lib\\site-packages (from tensorboard<2.11,>=2.10->tensorflow-gpu) (3.4.1)\n",
      "Requirement already satisfied: pyparsing!=3.0.5,>=2.0.2 in c:\\users\\rohan\\appdata\\local\\programs\\python\\python39\\lib\\site-packages (from packaging->tensorflow-gpu) (3.0.9)\n",
      "Requirement already satisfied: cachetools<6.0,>=2.0.0 in c:\\users\\rohan\\appdata\\local\\programs\\python\\python39\\lib\\site-packages (from google-auth<3,>=1.6.3->tensorboard<2.11,>=2.10->tensorflow-gpu) (5.2.0)\n",
      "Requirement already satisfied: pyasn1-modules>=0.2.1 in c:\\users\\rohan\\appdata\\local\\programs\\python\\python39\\lib\\site-packages (from google-auth<3,>=1.6.3->tensorboard<2.11,>=2.10->tensorflow-gpu) (0.2.8)\n",
      "Requirement already satisfied: rsa<5,>=3.1.4 in c:\\users\\rohan\\appdata\\local\\programs\\python\\python39\\lib\\site-packages (from google-auth<3,>=1.6.3->tensorboard<2.11,>=2.10->tensorflow-gpu) (4.9)\n",
      "Requirement already satisfied: requests-oauthlib>=0.7.0 in c:\\users\\rohan\\appdata\\local\\programs\\python\\python39\\lib\\site-packages (from google-auth-oauthlib<0.5,>=0.4.1->tensorboard<2.11,>=2.10->tensorflow-gpu) (1.3.1)\n",
      "Requirement already satisfied: importlib-metadata>=4.4 in c:\\users\\rohan\\appdata\\local\\programs\\python\\python39\\lib\\site-packages (from markdown>=2.6.8->tensorboard<2.11,>=2.10->tensorflow-gpu) (5.1.0)\n",
      "Requirement already satisfied: urllib3<1.27,>=1.21.1 in c:\\users\\rohan\\appdata\\local\\programs\\python\\python39\\lib\\site-packages (from requests<3,>=2.21.0->tensorboard<2.11,>=2.10->tensorflow-gpu) (1.26.13)\n",
      "Requirement already satisfied: charset-normalizer<3,>=2 in c:\\users\\rohan\\appdata\\local\\programs\\python\\python39\\lib\\site-packages (from requests<3,>=2.21.0->tensorboard<2.11,>=2.10->tensorflow-gpu) (2.1.1)\n",
      "Requirement already satisfied: certifi>=2017.4.17 in c:\\users\\rohan\\appdata\\local\\programs\\python\\python39\\lib\\site-packages (from requests<3,>=2.21.0->tensorboard<2.11,>=2.10->tensorflow-gpu) (2022.9.24)\n",
      "Requirement already satisfied: idna<4,>=2.5 in c:\\users\\rohan\\appdata\\local\\programs\\python\\python39\\lib\\site-packages (from requests<3,>=2.21.0->tensorboard<2.11,>=2.10->tensorflow-gpu) (3.4)\n",
      "Requirement already satisfied: MarkupSafe>=2.1.1 in c:\\users\\rohan\\appdata\\local\\programs\\python\\python39\\lib\\site-packages (from werkzeug>=1.0.1->tensorboard<2.11,>=2.10->tensorflow-gpu) (2.1.1)\n",
      "Requirement already satisfied: zipp>=0.5 in c:\\users\\rohan\\appdata\\local\\programs\\python\\python39\\lib\\site-packages (from importlib-metadata>=4.4->markdown>=2.6.8->tensorboard<2.11,>=2.10->tensorflow-gpu) (3.11.0)\n",
      "Requirement already satisfied: pyasn1<0.5.0,>=0.4.6 in c:\\users\\rohan\\appdata\\local\\programs\\python\\python39\\lib\\site-packages (from pyasn1-modules>=0.2.1->google-auth<3,>=1.6.3->tensorboard<2.11,>=2.10->tensorflow-gpu) (0.4.8)\n",
      "Requirement already satisfied: oauthlib>=3.0.0 in c:\\users\\rohan\\appdata\\local\\programs\\python\\python39\\lib\\site-packages (from requests-oauthlib>=0.7.0->google-auth-oauthlib<0.5,>=0.4.1->tensorboard<2.11,>=2.10->tensorflow-gpu) (3.2.2)\n",
      "Note: you may need to restart the kernel to use updated packages.\n"
     ]
    }
   ],
   "source": [
    "pip install tensorflow-gpu"
   ]
  },
  {
   "cell_type": "code",
   "execution_count": 11,
   "id": "ce1be3fc",
   "metadata": {},
   "outputs": [],
   "source": [
    "!cd yolov5\\labelImg-master"
   ]
  },
  {
   "cell_type": "code",
   "execution_count": 13,
   "id": "71a099c3",
   "metadata": {},
   "outputs": [
    {
     "name": "stdout",
     "output_type": "stream",
     "text": [
      "Note: you may need to restart the kernel to use updated packages.\n"
     ]
    },
    {
     "name": "stderr",
     "output_type": "stream",
     "text": [
      "ERROR: Could not find a version that satisfies the requirement pyqt==5 (from versions: none)\n",
      "ERROR: No matching distribution found for pyqt==5\n"
     ]
    }
   ],
   "source": [
    "pip install pyqt==5"
   ]
  },
  {
   "cell_type": "code",
   "execution_count": null,
   "id": "b5372f4f",
   "metadata": {},
   "outputs": [],
   "source": []
  }
 ],
 "metadata": {
  "kernelspec": {
   "display_name": "Python 3 (ipykernel)",
   "language": "python",
   "name": "python3"
  },
  "language_info": {
   "codemirror_mode": {
    "name": "ipython",
    "version": 3
   },
   "file_extension": ".py",
   "mimetype": "text/x-python",
   "name": "python",
   "nbconvert_exporter": "python",
   "pygments_lexer": "ipython3",
   "version": "3.9.13"
  }
 },
 "nbformat": 4,
 "nbformat_minor": 5
}
